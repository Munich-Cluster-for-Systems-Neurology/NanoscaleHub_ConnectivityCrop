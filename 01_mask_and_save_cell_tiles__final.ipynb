{
 "cells": [
  {
   "cell_type": "code",
   "execution_count": 2,
   "id": "d71c80e4",
   "metadata": {},
   "outputs": [],
   "source": [
    "import numpy as np\n",
    "from tifffile import imread, imsave\n",
    "from joblib import Parallel, delayed\n",
    "import os\n",
    "import imageio"
   ]
  },
  {
   "cell_type": "code",
   "execution_count": 5,
   "id": "b1640907",
   "metadata": {},
   "outputs": [],
   "source": [
    "def process_image(seg_file, img_dir, output_dir):\n",
    "    # Extract the base filename and replace 'seg__' with 'img__'\n",
    "    base_filename = os.path.basename(seg_file).replace('seg__', 'img__')\n",
    "\n",
    "    # Construct the full path to the corresponding img file\n",
    "    img_file = os.path.join(img_dir, base_filename)\n",
    "\n",
    "    # Read the segmentation and corresponding image\n",
    "    seg = imread(seg_file)\n",
    "    img = imread(img_file)\n",
    "\n",
    "    # Create the mask: keep img where seg is non-zero, else 0\n",
    "    mask = np.where(seg > 0, img, 0)\n",
    "\n",
    "    # Save the mask image\n",
    "    output_file = os.path.join(output_dir, base_filename.replace('img__', 'mask__'))\n",
    "    imsave(output_file, mask.astype(np.uint8))"
   ]
  },
  {
   "cell_type": "code",
   "execution_count": 3,
   "id": "60c26d16",
   "metadata": {},
   "outputs": [],
   "source": [
    "def process_image(seg_file, img_dir, output_dir):\n",
    "    # Read the segmentation and corresponding image\n",
    "    seg = imread(seg_file)\n",
    "    img_file = os.path.join(img_dir, seg_file.split('/')[-1].replace('seg__', 'img__'))\n",
    "    img = imread(img_file)\n",
    "\n",
    "    # Create the mask: keep img where seg is non-zero, else 0\n",
    "    mask = np.where(seg > 0, img, 0)\n",
    "\n",
    "    # Save the mask image\n",
    "    output_file = os.path.join(output_dir, seg_file.split('/')[-1].replace('seg__', 'mask__'))\n",
    "    imsave(output_file, mask.astype(np.uint8))"
   ]
  },
  {
   "cell_type": "code",
   "execution_count": 6,
   "id": "8bf1d772",
   "metadata": {},
   "outputs": [],
   "source": [
    "def main():\n",
    "    # Define directories\n",
    "    root_dir = 'D:\\shared_drive\\oz'\n",
    "    seg_dir = os.path.join(root_dir, 'seg')\n",
    "    img_dir = os.path.join(root_dir, 'img')\n",
    "    output_dir = os.path.join(root_dir, 'mask')\n",
    "\n",
    "    # Create output directory if it doesn't exist\n",
    "    if not os.path.exists(output_dir):\n",
    "        os.makedirs(output_dir)\n",
    "\n",
    "    # Get list of segmentation files\n",
    "    seg_files = [os.path.join(seg_dir, f) for f in os.listdir(seg_dir) if f.endswith('.tif')]\n",
    "\n",
    "    # Process each image in parallel\n",
    "    Parallel(n_jobs=60)(delayed(process_image)(f, img_dir, output_dir) for f in seg_files)\n",
    "\n",
    "if __name__ == \"__main__\":\n",
    "    main()"
   ]
  },
  {
   "cell_type": "code",
   "execution_count": null,
   "id": "4d4371c1",
   "metadata": {},
   "outputs": [],
   "source": []
  }
 ],
 "metadata": {
  "kernelspec": {
   "display_name": "Python 3 (ipykernel)",
   "language": "python",
   "name": "python3"
  },
  "language_info": {
   "codemirror_mode": {
    "name": "ipython",
    "version": 3
   },
   "file_extension": ".py",
   "mimetype": "text/x-python",
   "name": "python",
   "nbconvert_exporter": "python",
   "pygments_lexer": "ipython3",
   "version": "3.8.18"
  }
 },
 "nbformat": 4,
 "nbformat_minor": 5
}
