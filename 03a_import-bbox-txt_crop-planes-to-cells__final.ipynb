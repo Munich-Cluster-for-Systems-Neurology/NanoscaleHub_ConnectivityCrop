{
 "cells": [
  {
   "cell_type": "code",
   "execution_count": 30,
   "id": "14acd232",
   "metadata": {},
   "outputs": [],
   "source": [
    "import numpy as np\n",
    "from tifffile import imread, imsave\n",
    "import os\n",
    "import re\n",
    "import glob\n",
    "import warnings\n",
    "warnings.simplefilter(action='ignore', category=DeprecationWarning)"
   ]
  },
  {
   "cell_type": "code",
   "execution_count": 31,
   "id": "4e39be21",
   "metadata": {},
   "outputs": [],
   "source": [
    "def stitch_full_plane(img_dir, z_index, tile_shape):\n",
    "    \"\"\"\n",
    "    Stitch together all the tiles of a given Z-plane.\n",
    "    \"\"\"\n",
    "    # Find all files for this Z-plane\n",
    "    files = glob.glob(os.path.join(img_dir, f'img__s{str(z_index).zfill(2)}_*.tif'))\n",
    "\n",
    "    # Regular expression to extract Y and X coordinates\n",
    "    coord_pattern = re.compile(r'_Y(\\d+)_X(\\d+)\\.tif$')\n",
    "\n",
    "    # Determine the dimensions of the full plane\n",
    "    num_rows = max(int(coord_pattern.search(f).group(1)) for f in files) + 1\n",
    "    num_cols = max(int(coord_pattern.search(f).group(2)) for f in files) + 1\n",
    "    full_plane = np.zeros((num_rows * tile_shape[0], num_cols * tile_shape[1]), dtype=np.uint8)\n",
    "\n",
    "    # Stitch the tiles\n",
    "    for file in files:\n",
    "        match = coord_pattern.search(file)\n",
    "        if match:\n",
    "            y, x = map(int, match.groups())\n",
    "            tile = imread(file)\n",
    "            full_plane[y * tile_shape[0]:(y + 1) * tile_shape[0], x * tile_shape[1]:(x + 1) * tile_shape[1]] = tile\n",
    "        else:\n",
    "            print(f\"Filename does not match expected pattern: {file}\")\n",
    "\n",
    "    return full_plane"
   ]
  },
  {
   "cell_type": "code",
   "execution_count": 32,
   "id": "c57399bb",
   "metadata": {},
   "outputs": [],
   "source": [
    "def crop_and_save_region(stitched_plane, bbox, output_dir, center_z, center_y, center_x):\n",
    "    \"\"\"\n",
    "    Crop a region from the stitched plane and save it.\n",
    "    \"\"\"\n",
    "    cropped_img = stitched_plane[bbox['y_min']:bbox['y_max'], bbox['x_min']:bbox['x_max']]\n",
    "    output_file = os.path.join(output_dir, f'crop__z{center_z}_Y{center_y}_X{center_x}.tif')\n",
    "    imsave(output_file, cropped_img)"
   ]
  },
  {
   "cell_type": "code",
   "execution_count": 33,
   "id": "87e02668",
   "metadata": {},
   "outputs": [],
   "source": [
    "def load_bounding_boxes(file_path):\n",
    "    \"\"\"\n",
    "    Load bounding box data from the file.\n",
    "    \"\"\"\n",
    "    bounding_boxes = []\n",
    "    with open(file_path, 'r') as file:\n",
    "        next(file)  # Skip header line\n",
    "        for line in file:\n",
    "            parts = line.strip().split(', ')\n",
    "            bbox_data = {\n",
    "                'object_id': int(parts[0]),\n",
    "                'z_min': int(parts[1]),\n",
    "                'y_min': int(parts[2]),\n",
    "                'x_min': int(parts[3]),\n",
    "                'z_max': int(parts[1]),\n",
    "                'y_max': int(parts[4]),\n",
    "                'x_max': int(parts[5]),\n",
    "                'center_z' : int(parts[1]),\n",
    "                'center_y': int(parts[7]),\n",
    "                'center_x': int(parts[6])\n",
    "            }\n",
    "            bounding_boxes.append(bbox_data)\n",
    "    return bounding_boxes"
   ]
  },
  {
   "cell_type": "code",
   "execution_count": 34,
   "id": "4d4f4d97",
   "metadata": {},
   "outputs": [],
   "source": [
    "def main():\n",
    "    root_dir = 'D:/shared_drive/oz'\n",
    "    img_dir = os.path.join(root_dir, 'img')\n",
    "    bbox_file = os.path.join(root_dir, 'bounding_boxes.txt')\n",
    "    output_dir = os.path.join(root_dir, 'cropped')\n",
    "    tile_shape = (4096, 4096)  # Update this based on your actual tile size\n",
    "\n",
    "    # Create the output directory if it doesn't exist\n",
    "    if not os.path.exists(output_dir):\n",
    "        os.makedirs(output_dir)\n",
    "\n",
    "    # Load bounding box data\n",
    "    bounding_boxes = load_bounding_boxes(bbox_file)\n",
    "\n",
    "    # Process each Z-plane\n",
    "    z_indices = sorted(set(bbox['z_min'] for bbox in bounding_boxes))\n",
    "    for z_index in z_indices:\n",
    "        # Stitch the full plane for this Z-index\n",
    "        stitched_plane = stitch_full_plane(img_dir, z_index, tile_shape)\n",
    "\n",
    "        # Crop and save regions for this Z-plane\n",
    "        for bbox in [b for b in bounding_boxes if b['z_min'] == z_index]:\n",
    "            crop_and_save_region(stitched_plane, bbox, output_dir, bbox['center_z'], bbox['center_x'], bbox['center_y'])"
   ]
  },
  {
   "cell_type": "code",
   "execution_count": 35,
   "id": "625d5d22",
   "metadata": {},
   "outputs": [],
   "source": [
    "if __name__ == \"__main__\":\n",
    "    main()"
   ]
  },
  {
   "cell_type": "code",
   "execution_count": null,
   "id": "8f183428",
   "metadata": {},
   "outputs": [],
   "source": []
  }
 ],
 "metadata": {
  "kernelspec": {
   "display_name": "Python 3 (ipykernel)",
   "language": "python",
   "name": "python3"
  },
  "language_info": {
   "codemirror_mode": {
    "name": "ipython",
    "version": 3
   },
   "file_extension": ".py",
   "mimetype": "text/x-python",
   "name": "python",
   "nbconvert_exporter": "python",
   "pygments_lexer": "ipython3",
   "version": "3.8.18"
  }
 },
 "nbformat": 4,
 "nbformat_minor": 5
}
