{
 "cells": [
  {
   "cell_type": "code",
   "execution_count": 17,
   "id": "14acd232",
   "metadata": {},
   "outputs": [],
   "source": [
    "import numpy as np\n",
    "from tifffile import imread, imsave\n",
    "import os\n",
    "import re\n",
    "import glob\n",
    "import warnings\n",
    "import imageio\n",
    "warnings.simplefilter(action='ignore', category=DeprecationWarning)"
   ]
  },
  {
   "cell_type": "code",
   "execution_count": 18,
   "id": "4e39be21",
   "metadata": {},
   "outputs": [],
   "source": [
    "def stitch_full_plane(img_dir, z_index, tile_shape):\n",
    "    \"\"\"\n",
    "    Stitch together all the tiles of a given Z-plane for RGB images.\n",
    "    \"\"\"\n",
    "    # Find all files for this Z-plane\n",
    "    files = glob.glob(os.path.join(img_dir, f'shot__s{str(z_index).zfill(2)}_*.png'))\n",
    "\n",
    "    # Regular expression to extract Y and X coordinates\n",
    "    coord_pattern = re.compile(r'_Y(\\d+)_X(\\d+)\\.png$')\n",
    "\n",
    "    # Determine the dimensions of the full plane\n",
    "    num_rows = max(int(coord_pattern.search(f).group(1)) for f in files) + 1\n",
    "    num_cols = max(int(coord_pattern.search(f).group(2)) for f in files) + 1\n",
    "    full_plane = np.zeros((num_rows * tile_shape[0], num_cols * tile_shape[1], 3), dtype=np.uint8)\n",
    "\n",
    "    # Stitch the tiles\n",
    "    for file in files:\n",
    "        match = coord_pattern.search(file)\n",
    "        if match:\n",
    "            y, x = map(int, match.groups())\n",
    "            tile = imageio.imread(file)  # Use imageio to read the image\n",
    "            # Ensure that the tile is RGB\n",
    "            if tile.ndim == 3 and tile.shape[2] == 3:\n",
    "                full_plane[y * tile_shape[0]:(y + 1) * tile_shape[0], x * tile_shape[1]:(x + 1) * tile_shape[1], :] = tile\n",
    "            else:\n",
    "                print(f\"Warning: Tile {file} is not an RGB image.\")\n",
    "        else:\n",
    "            print(f\"Filename does not match expected pattern: {file}\")\n",
    "\n",
    "    return full_plane"
   ]
  },
  {
   "cell_type": "code",
   "execution_count": 23,
   "id": "c57399bb",
   "metadata": {},
   "outputs": [],
   "source": [
    "def crop_and_save_region(stitched_plane, bbox, output_dir, center_z, center_y, center_x, crop_mode='user_defined', crop_width=1536, crop_height=1536):\n",
    "    \"\"\"\n",
    "    Crop a region from the stitched plane and save it, based on either a bounding box or user-defined size.\n",
    "    \"\"\"\n",
    "    if crop_mode == 'file':\n",
    "        # Crop using the bounding box from the file\n",
    "        cropped_img = stitched_plane[bbox['y_min']:bbox['y_max'], bbox['x_min']:bbox['x_max']]\n",
    "    elif crop_mode == 'user_defined' and crop_width is not None and crop_height is not None:\n",
    "        # Crop using a user-defined size centered around (center_y, center_x)\n",
    "        y_min = max(center_y - crop_height // 2, 0)\n",
    "        y_max = min(center_y + crop_height // 2, stitched_plane.shape[0])\n",
    "        x_min = max(center_x - crop_width // 2, 0)\n",
    "        x_max = min(center_x + crop_width // 2, stitched_plane.shape[1])\n",
    "        cropped_img = stitched_plane[y_min:y_max, x_min:x_max]\n",
    "    else:\n",
    "        raise ValueError(\"Invalid crop mode or missing crop dimensions for user-defined cropping.\")\n",
    "\n",
    "    output_file = os.path.join(output_dir, f'crop__z{center_z}_Y{center_y}_X{center_x}.tif')\n",
    "    imsave(output_file, cropped_img)"
   ]
  },
  {
   "cell_type": "code",
   "execution_count": 20,
   "id": "f4e05468",
   "metadata": {},
   "outputs": [],
   "source": [
    "def load_bounding_boxes(file_path):\n",
    "    \"\"\"\n",
    "    Load bounding box data from the file.\n",
    "    \"\"\"\n",
    "    bounding_boxes = []\n",
    "    with open(file_path, 'r') as file:\n",
    "        next(file)  # Skip header line\n",
    "        for line in file:\n",
    "            parts = line.strip().split(', ')\n",
    "            bbox_data = {\n",
    "                'object_id': int(parts[0]),\n",
    "                'z_min': int(parts[1]),\n",
    "                'y_min': int(parts[2]),\n",
    "                'x_min': int(parts[3]),\n",
    "                'z_max': int(parts[1]),\n",
    "                'y_max': int(parts[4]),\n",
    "                'x_max': int(parts[5]),\n",
    "                'center_z' : int(parts[1]),\n",
    "                'center_y': int(parts[7]),\n",
    "                'center_x': int(parts[6])\n",
    "            }\n",
    "            bounding_boxes.append(bbox_data)\n",
    "    return bounding_boxes"
   ]
  },
  {
   "cell_type": "code",
   "execution_count": 24,
   "id": "4d4f4d97",
   "metadata": {},
   "outputs": [],
   "source": [
    "def main():\n",
    "    root_dir = 'D:/shared_drive/oz'\n",
    "    img_dir = os.path.join(root_dir, 'screenshot')\n",
    "    bbox_file = os.path.join(root_dir, 'bounding_boxes.txt')\n",
    "    output_dir = os.path.join(root_dir, 'cropped_rgb_fixed_bbox')\n",
    "    tile_shape = (4096, 4096)  # Update this based on your actual tile size\n",
    "\n",
    "    # Create the output directory if it doesn't exist\n",
    "    if not os.path.exists(output_dir):\n",
    "        os.makedirs(output_dir)\n",
    "\n",
    "    # Load bounding box data\n",
    "    bounding_boxes = load_bounding_boxes(bbox_file)\n",
    "\n",
    "    # Process each Z-plane\n",
    "    z_indices = sorted(set(bbox['z_min'] for bbox in bounding_boxes))\n",
    "    for z_index in z_indices:\n",
    "        # Stitch the full plane for this Z-index\n",
    "        stitched_plane = stitch_full_plane(img_dir, z_index, tile_shape)\n",
    "\n",
    "        # Crop and save regions for this Z-plane\n",
    "        for bbox in [b for b in bounding_boxes if b['z_min'] == z_index]:\n",
    "            crop_and_save_region(stitched_plane, bbox, output_dir, bbox['center_z'], bbox['center_x'], bbox['center_y'])"
   ]
  },
  {
   "cell_type": "code",
   "execution_count": 25,
   "id": "625d5d22",
   "metadata": {},
   "outputs": [
    {
     "ename": "MemoryError",
     "evalue": "Unable to allocate 27.0 GiB for an array with shape (98304, 98304, 3) and data type uint8",
     "output_type": "error",
     "traceback": [
      "\u001b[1;31m---------------------------------------------------------------------------\u001b[0m",
      "\u001b[1;31mMemoryError\u001b[0m                               Traceback (most recent call last)",
      "Cell \u001b[1;32mIn[25], line 2\u001b[0m\n\u001b[0;32m      1\u001b[0m \u001b[38;5;28;01mif\u001b[39;00m \u001b[38;5;18m__name__\u001b[39m \u001b[38;5;241m==\u001b[39m \u001b[38;5;124m\"\u001b[39m\u001b[38;5;124m__main__\u001b[39m\u001b[38;5;124m\"\u001b[39m:\n\u001b[1;32m----> 2\u001b[0m     \u001b[43mmain\u001b[49m\u001b[43m(\u001b[49m\u001b[43m)\u001b[49m\n",
      "Cell \u001b[1;32mIn[24], line 19\u001b[0m, in \u001b[0;36mmain\u001b[1;34m()\u001b[0m\n\u001b[0;32m     16\u001b[0m z_indices \u001b[38;5;241m=\u001b[39m \u001b[38;5;28msorted\u001b[39m(\u001b[38;5;28mset\u001b[39m(bbox[\u001b[38;5;124m'\u001b[39m\u001b[38;5;124mz_min\u001b[39m\u001b[38;5;124m'\u001b[39m] \u001b[38;5;28;01mfor\u001b[39;00m bbox \u001b[38;5;129;01min\u001b[39;00m bounding_boxes))\n\u001b[0;32m     17\u001b[0m \u001b[38;5;28;01mfor\u001b[39;00m z_index \u001b[38;5;129;01min\u001b[39;00m z_indices:\n\u001b[0;32m     18\u001b[0m     \u001b[38;5;66;03m# Stitch the full plane for this Z-index\u001b[39;00m\n\u001b[1;32m---> 19\u001b[0m     stitched_plane \u001b[38;5;241m=\u001b[39m \u001b[43mstitch_full_plane\u001b[49m\u001b[43m(\u001b[49m\u001b[43mimg_dir\u001b[49m\u001b[43m,\u001b[49m\u001b[43m \u001b[49m\u001b[43mz_index\u001b[49m\u001b[43m,\u001b[49m\u001b[43m \u001b[49m\u001b[43mtile_shape\u001b[49m\u001b[43m)\u001b[49m\n\u001b[0;32m     21\u001b[0m     \u001b[38;5;66;03m# Crop and save regions for this Z-plane\u001b[39;00m\n\u001b[0;32m     22\u001b[0m     \u001b[38;5;28;01mfor\u001b[39;00m bbox \u001b[38;5;129;01min\u001b[39;00m [b \u001b[38;5;28;01mfor\u001b[39;00m b \u001b[38;5;129;01min\u001b[39;00m bounding_boxes \u001b[38;5;28;01mif\u001b[39;00m b[\u001b[38;5;124m'\u001b[39m\u001b[38;5;124mz_min\u001b[39m\u001b[38;5;124m'\u001b[39m] \u001b[38;5;241m==\u001b[39m z_index]:\n",
      "Cell \u001b[1;32mIn[18], line 14\u001b[0m, in \u001b[0;36mstitch_full_plane\u001b[1;34m(img_dir, z_index, tile_shape)\u001b[0m\n\u001b[0;32m     12\u001b[0m num_rows \u001b[38;5;241m=\u001b[39m \u001b[38;5;28mmax\u001b[39m(\u001b[38;5;28mint\u001b[39m(coord_pattern\u001b[38;5;241m.\u001b[39msearch(f)\u001b[38;5;241m.\u001b[39mgroup(\u001b[38;5;241m1\u001b[39m)) \u001b[38;5;28;01mfor\u001b[39;00m f \u001b[38;5;129;01min\u001b[39;00m files) \u001b[38;5;241m+\u001b[39m \u001b[38;5;241m1\u001b[39m\n\u001b[0;32m     13\u001b[0m num_cols \u001b[38;5;241m=\u001b[39m \u001b[38;5;28mmax\u001b[39m(\u001b[38;5;28mint\u001b[39m(coord_pattern\u001b[38;5;241m.\u001b[39msearch(f)\u001b[38;5;241m.\u001b[39mgroup(\u001b[38;5;241m2\u001b[39m)) \u001b[38;5;28;01mfor\u001b[39;00m f \u001b[38;5;129;01min\u001b[39;00m files) \u001b[38;5;241m+\u001b[39m \u001b[38;5;241m1\u001b[39m\n\u001b[1;32m---> 14\u001b[0m full_plane \u001b[38;5;241m=\u001b[39m \u001b[43mnp\u001b[49m\u001b[38;5;241;43m.\u001b[39;49m\u001b[43mzeros\u001b[49m\u001b[43m(\u001b[49m\u001b[43m(\u001b[49m\u001b[43mnum_rows\u001b[49m\u001b[43m \u001b[49m\u001b[38;5;241;43m*\u001b[39;49m\u001b[43m \u001b[49m\u001b[43mtile_shape\u001b[49m\u001b[43m[\u001b[49m\u001b[38;5;241;43m0\u001b[39;49m\u001b[43m]\u001b[49m\u001b[43m,\u001b[49m\u001b[43m \u001b[49m\u001b[43mnum_cols\u001b[49m\u001b[43m \u001b[49m\u001b[38;5;241;43m*\u001b[39;49m\u001b[43m \u001b[49m\u001b[43mtile_shape\u001b[49m\u001b[43m[\u001b[49m\u001b[38;5;241;43m1\u001b[39;49m\u001b[43m]\u001b[49m\u001b[43m,\u001b[49m\u001b[43m \u001b[49m\u001b[38;5;241;43m3\u001b[39;49m\u001b[43m)\u001b[49m\u001b[43m,\u001b[49m\u001b[43m \u001b[49m\u001b[43mdtype\u001b[49m\u001b[38;5;241;43m=\u001b[39;49m\u001b[43mnp\u001b[49m\u001b[38;5;241;43m.\u001b[39;49m\u001b[43muint8\u001b[49m\u001b[43m)\u001b[49m\n\u001b[0;32m     16\u001b[0m \u001b[38;5;66;03m# Stitch the tiles\u001b[39;00m\n\u001b[0;32m     17\u001b[0m \u001b[38;5;28;01mfor\u001b[39;00m file \u001b[38;5;129;01min\u001b[39;00m files:\n",
      "\u001b[1;31mMemoryError\u001b[0m: Unable to allocate 27.0 GiB for an array with shape (98304, 98304, 3) and data type uint8"
     ]
    }
   ],
   "source": [
    "if __name__ == \"__main__\":\n",
    "    main()"
   ]
  },
  {
   "cell_type": "code",
   "execution_count": null,
   "id": "8f183428",
   "metadata": {},
   "outputs": [],
   "source": []
  }
 ],
 "metadata": {
  "kernelspec": {
   "display_name": "Python 3 (ipykernel)",
   "language": "python",
   "name": "python3"
  },
  "language_info": {
   "codemirror_mode": {
    "name": "ipython",
    "version": 3
   },
   "file_extension": ".py",
   "mimetype": "text/x-python",
   "name": "python",
   "nbconvert_exporter": "python",
   "pygments_lexer": "ipython3",
   "version": "3.8.18"
  }
 },
 "nbformat": 4,
 "nbformat_minor": 5
}
